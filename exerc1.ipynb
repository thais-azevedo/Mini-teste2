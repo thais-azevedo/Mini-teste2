{
 "cells": [
  {
   "cell_type": "code",
   "execution_count": null,
   "id": "7310498b-f9aa-4afb-ab31-ee690f692f4e",
   "metadata": {},
   "outputs": [],
   "source": [
    "print(\"Digite as sequências separadas por vírgulas: \")\n",
    "sequencias_input = input()\n",
    "sequencias = sequencias_input.split(',')\n",
    "\n",
    "# Verifica se a lista de sequências está vazia\n",
    "if not sequencias:\n",
    "    print(\"Nenhuma sequência foi inserida.\")\n",
    "else:\n",
    "    menor_seq = sequencias[0]\n",
    "    maior_seq = sequencias[0]\n",
    "    tamanho_total = 0\n",
    "    \n",
    "    # Analise das sequências para encontrar a menor, a maior e calcular o tamanho total\n",
    "    for sequencia in sequencias:\n",
    "        if len(sequencia) < len(menor_seq):\n",
    "            menor_seq = sequencia\n",
    "        if len(sequencia) > len(maior_seq):\n",
    "            maior_seq = sequencia\n",
    "\n",
    "        tamanho_total += len(sequencia)\n",
    "    \n",
    "    # Calcula a média do tamanho das sequências\n",
    "    media_seq = tamanho_total / len(sequencias)\n",
    "    \n",
    "    print(f\"Sequência mais curta: {menor_seq}\")\n",
    "    print(f\"Sequência mais longa: {maior_seq}\")\n",
    "    print(f\"Média de tamanho das sequências: {media_seq}\")\n"
   ]
  }
 ],
 "metadata": {
  "kernelspec": {
   "display_name": "Python 3 (ipykernel)",
   "language": "python",
   "name": "python3"
  },
  "language_info": {
   "codemirror_mode": {
    "name": "ipython",
    "version": 3
   },
   "file_extension": ".py",
   "mimetype": "text/x-python",
   "name": "python",
   "nbconvert_exporter": "python",
   "pygments_lexer": "ipython3",
   "version": "3.10.12"
  }
 },
 "nbformat": 4,
 "nbformat_minor": 5
}
