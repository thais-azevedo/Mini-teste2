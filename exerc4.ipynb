{
 "cells": [
  {
   "cell_type": "code",
   "execution_count": null,
   "id": "7890815f-312b-4b26-9bab-a0860d213d6b",
   "metadata": {},
   "outputs": [],
   "source": [
    "print(\"Digite as sequências separadas por vírgulas: \")\n",
    "sequencias = input()\n",
    "seq = sequencias.split(',')\n",
    "\n",
    "contaminadas = []  # Lista para armazenar sequências contaminadas\n",
    "media_gc = 0  # Variável para calcular a média de porcentagem de GC\n",
    "\n",
    "for sequence in seq:\n",
    "    count_c = sequence.count('C')  # Conta o número de 'C' na sequência\n",
    "    count_g = sequence.count('G')  # Conta o número de 'G' na sequência\n",
    "    tamanho_seq = len(sequence)  # Calcula o tamanho da sequência\n",
    "    contagem_gc = count_c + count_g  # Soma de 'C' e 'G'\n",
    "    porcentagem_gc = (contagem_gc / tamanho_seq) * 100  # Calcula a porcentagem de GC\n",
    "    media_gc += porcentagem_gc  # Adiciona a porcentagem de GC para calcular a média\n",
    "    \n",
    "    # Verifica se a sequência é contaminada (porcentagem de GC acima de 60%)\n",
    "    if porcentagem_gc >= 60:\n",
    "        contaminadas.append(sequence)\n",
    "\n",
    "# Calcula a média da porcentagem de GC de todas as sequências\n",
    "media_gc /= len(seq)\n",
    "\n",
    "print(\"Sequências contaminadas:\")\n",
    "for seq_contaminada in contaminadas:\n",
    "    print(seq_contaminada)\n",
    "\n",
    "print(f'Média de porcentagem de GC de todas as sequências: {media_gc: }%')"
   ]
  }
 ],
 "metadata": {
  "kernelspec": {
   "display_name": "Python 3 (ipykernel)",
   "language": "python",
   "name": "python3"
  },
  "language_info": {
   "codemirror_mode": {
    "name": "ipython",
    "version": 3
   },
   "file_extension": ".py",
   "mimetype": "text/x-python",
   "name": "python",
   "nbconvert_exporter": "python",
   "pygments_lexer": "ipython3",
   "version": "3.10.12"
  }
 },
 "nbformat": 4,
 "nbformat_minor": 5
}
