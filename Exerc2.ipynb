{
 "cells": [
  {
   "cell_type": "code",
   "execution_count": null,
   "id": "b7ef6dec-d299-47f5-9905-66413aad99d4",
   "metadata": {},
   "outputs": [],
   "source": [
    "genes = ['APOE (44905796..44909393) chr19', 'TOMM40 (44905796..44909393) chr19', 'FTO (53703963..54121941) chr19']\n",
    "\n",
    "for informacoes_genes in genes:\n",
    "\n",
    "# Divide a descrição em partes separadas\n",
    "    partes = informacoes_genes.split(' ')\n",
    "    nome_genes = partes[0]\n",
    "    coordenadas = partes[1]\n",
    "    cromossomo = partes[2]\n",
    "    \n",
    "    start, end = map(int, coordenadas[1:-1].split('..'))\n",
    "    \n",
    "    print(f\"Nome do gene: {nome_genes}\")\n",
    "    print(f\"Coordenadas genômicas: início: {start} fim: {end}\")\n",
    "    print(f\"Cromossomo: {cromossomo}\")\n",
    "    print()\n"
   ]
  }
 ],
 "metadata": {
  "kernelspec": {
   "display_name": "Python 3 (ipykernel)",
   "language": "python",
   "name": "python3"
  },
  "language_info": {
   "codemirror_mode": {
    "name": "ipython",
    "version": 3
   },
   "file_extension": ".py",
   "mimetype": "text/x-python",
   "name": "python",
   "nbconvert_exporter": "python",
   "pygments_lexer": "ipython3",
   "version": "3.10.12"
  }
 },
 "nbformat": 4,
 "nbformat_minor": 5
}
