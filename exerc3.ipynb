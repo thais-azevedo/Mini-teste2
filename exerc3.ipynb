{
 "cells": [
  {
   "cell_type": "code",
   "execution_count": null,
   "id": "c0b61c37-f1f2-47c9-8045-22f4494047b5",
   "metadata": {},
   "outputs": [],
   "source": [
    "print(\"Digite as sequências separadas por vírgulas: \")\n",
    "sequencias = input()\n",
    "sequencias = sequencias.split(',')\n",
    "complemento = ''\n",
    "\n",
    "for sequencia in sequencias:\n",
    "    for nucleotideo in sequencia:\n",
    "        if nucleotideo == 'A':\n",
    "            complemento = complemento + 'U'\n",
    "        elif nucleotideo == 'T':\n",
    "            complemento = complemento + 'A'\n",
    "        elif nucleotideo == 'C':\n",
    "            complemento = complemento + 'G'\n",
    "        elif nucleotideo == 'G':\n",
    "            complemento = complemento + 'C'\n",
    "        else:\n",
    "            complemento += nucleotideo\n",
    "\n",
    "print(f'A transcrição correspondente em RNA: {complemento}')"
   ]
  }
 ],
 "metadata": {
  "kernelspec": {
   "display_name": "Python 3 (ipykernel)",
   "language": "python",
   "name": "python3"
  },
  "language_info": {
   "codemirror_mode": {
    "name": "ipython",
    "version": 3
   },
   "file_extension": ".py",
   "mimetype": "text/x-python",
   "name": "python",
   "nbconvert_exporter": "python",
   "pygments_lexer": "ipython3",
   "version": "3.10.12"
  }
 },
 "nbformat": 4,
 "nbformat_minor": 5
}
